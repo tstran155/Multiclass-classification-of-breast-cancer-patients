{
 "cells": [
  {
   "cell_type": "markdown",
   "id": "092b09ea",
   "metadata": {},
   "source": [
    "## Multiclass classification of breast cancer patients - Notebook 2"
   ]
  },
  {
   "cell_type": "markdown",
   "id": "6c4c99b4",
   "metadata": {},
   "source": [
    "In this notebook, I applied ensemble algorithm (XGBoost) and built a neural network model (Keras Sequential) to classify and predict the survival rate of patients with breast cancer."
   ]
  },
  {
   "cell_type": "markdown",
   "id": "2cf41a3a",
   "metadata": {},
   "source": [
    "### 1. Prepare Problem"
   ]
  },
  {
   "cell_type": "code",
   "execution_count": 1,
   "id": "11c13015",
   "metadata": {},
   "outputs": [],
   "source": [
    "# a) Load libraries\n",
    "\n",
    "import pandas as pd\n",
    "from pandas import set_option\n",
    "from pandas import DataFrame\n",
    "\n",
    "import numpy as np\n",
    "\n",
    "import xgboost as xgb\n",
    "\n",
    "import matplotlib.pyplot as plt\n",
    "\n",
    "from tensorflow import keras\n",
    "\n",
    "from tensorflow.keras.models import Sequential\n",
    "from tensorflow.keras.layers import Dense\n",
    "from keras.layers import Dropout\n",
    "\n",
    "from sklearn.model_selection import StratifiedKFold\n",
    "from sklearn.model_selection import train_test_split\n",
    "from sklearn.preprocessing import MinMaxScaler\n",
    "from sklearn.model_selection import GridSearchCV\n",
    "from sklearn.feature_selection import SelectKBest\n",
    "from sklearn.feature_selection import f_classif\n",
    "from sklearn.metrics import accuracy_score\n",
    "\n",
    "from xgboost import XGBClassifier\n",
    "\n",
    "from pickle import dump\n",
    "\n",
    "import warnings\n",
    "warnings.simplefilter(action='ignore', category=FutureWarning)"
   ]
  },
  {
   "cell_type": "code",
   "execution_count": 2,
   "id": "6e2b8f46",
   "metadata": {},
   "outputs": [
    {
     "name": "stdout",
     "output_type": "stream",
     "text": [
      "(1904, 693)\n",
      "   patient_id  age_at_diagnosis type_of_breast_surgery    cancer_type  \\\n",
      "0           0             75.65             MASTECTOMY  Breast Cancer   \n",
      "1           2             43.19      BREAST CONSERVING  Breast Cancer   \n",
      "2           5             48.87             MASTECTOMY  Breast Cancer   \n",
      "3           6             47.68             MASTECTOMY  Breast Cancer   \n",
      "4           8             76.97             MASTECTOMY  Breast Cancer   \n",
      "5          10             78.77             MASTECTOMY  Breast Cancer   \n",
      "6          14             56.45      BREAST CONSERVING  Breast Cancer   \n",
      "7          22             89.08      BREAST CONSERVING  Breast Cancer   \n",
      "8          28             86.41      BREAST CONSERVING  Breast Cancer   \n",
      "9          35             84.22             MASTECTOMY  Breast Cancer   \n",
      "\n",
      "                        cancer_type_detailed cellularity  chemotherapy  \\\n",
      "0           Breast Invasive Ductal Carcinoma         NaN             0   \n",
      "1           Breast Invasive Ductal Carcinoma        High             0   \n",
      "2           Breast Invasive Ductal Carcinoma        High             1   \n",
      "3  Breast Mixed Ductal and Lobular Carcinoma    Moderate             1   \n",
      "4  Breast Mixed Ductal and Lobular Carcinoma        High             1   \n",
      "5           Breast Invasive Ductal Carcinoma    Moderate             0   \n",
      "6           Breast Invasive Ductal Carcinoma    Moderate             1   \n",
      "7  Breast Mixed Ductal and Lobular Carcinoma    Moderate             0   \n",
      "8           Breast Invasive Ductal Carcinoma    Moderate             0   \n",
      "9          Breast Invasive Lobular Carcinoma        High             0   \n",
      "\n",
      "  pam50_+_claudin-low_subtype  cohort er_status_measured_by_ihc  ... mtap_mut  \\\n",
      "0                 claudin-low     1.0                   Positve  ...        0   \n",
      "1                        LumA     1.0                   Positve  ...        0   \n",
      "2                        LumB     1.0                   Positve  ...        0   \n",
      "3                        LumB     1.0                   Positve  ...        0   \n",
      "4                        LumB     1.0                   Positve  ...        0   \n",
      "5                        LumB     1.0                   Positve  ...        0   \n",
      "6                        LumB     1.0                   Positve  ...        0   \n",
      "7                 claudin-low     1.0                   Positve  ...        0   \n",
      "8                        LumB     1.0                   Positve  ...        0   \n",
      "9                        Her2     1.0                  Negative  ...        0   \n",
      "\n",
      "   ppp2cb_mut smarcd1_mut nras_mut ndfip1_mut  hras_mut prps2_mut smarcb1_mut  \\\n",
      "0           0           0        0          0         0         0           0   \n",
      "1           0           0        0          0         0         0           0   \n",
      "2           0           0        0          0         0         0           0   \n",
      "3           0           0        0          0         0         0           0   \n",
      "4           0           0        0          0         0         0           0   \n",
      "5           0           0        0          0         0         0           0   \n",
      "6           0           0        0          0         0         0           0   \n",
      "7           0           0        0          0         0         0           0   \n",
      "8           0           0        0          0         0         0           0   \n",
      "9           0           0        0          0         0         0           0   \n",
      "\n",
      "  stmn2_mut  siah1_mut  \n",
      "0         0          0  \n",
      "1         0          0  \n",
      "2         0          0  \n",
      "3         0          0  \n",
      "4         0          0  \n",
      "5         0          0  \n",
      "6         0          0  \n",
      "7         0          0  \n",
      "8         0          0  \n",
      "9         0          0  \n",
      "\n",
      "[10 rows x 693 columns]\n",
      "patient_id                  int64\n",
      "age_at_diagnosis          float64\n",
      "type_of_breast_surgery     object\n",
      "cancer_type                object\n",
      "cancer_type_detailed       object\n",
      "                           ...   \n",
      "hras_mut                   object\n",
      "prps2_mut                  object\n",
      "smarcb1_mut                object\n",
      "stmn2_mut                  object\n",
      "siah1_mut                  object\n",
      "Length: 693, dtype: object\n"
     ]
    },
    {
     "name": "stderr",
     "output_type": "stream",
     "text": [
      "D:\\Software\\Anaconda\\lib\\site-packages\\IPython\\core\\interactiveshell.py:3185: DtypeWarning: Columns (678,688,690,692) have mixed types.Specify dtype option on import or set low_memory=False.\n",
      "  has_raised = await self.run_ast_nodes(code_ast.body, cell_name,\n"
     ]
    }
   ],
   "source": [
    "# b) Load dataset\n",
    "raw_data = pd.read_csv('METABRIC_RNA_Mutation.csv', header=0)\n",
    "print(raw_data.shape)\n",
    "print(raw_data.head(10))\n",
    "print(raw_data.dtypes)"
   ]
  },
  {
   "cell_type": "markdown",
   "id": "ad9b4a24",
   "metadata": {},
   "source": [
    "There are 1904 attributes from 693 input fearures. One feature (death_from_cancer) is the output feature for classification."
   ]
  },
  {
   "cell_type": "markdown",
   "id": "43253e65",
   "metadata": {},
   "source": [
    "### 2. Dataset summary"
   ]
  },
  {
   "cell_type": "code",
   "execution_count": 3,
   "id": "d68331bb",
   "metadata": {
    "scrolled": true
   },
   "outputs": [
    {
     "name": "stdout",
     "output_type": "stream",
     "text": [
      "       patient_id  age_at_diagnosis  chemotherapy  cohort  neoplasm_histologic_grade  \\\n",
      "count      10.000            10.000        10.000    10.0                     10.000   \n",
      "mean       13.000            68.729         0.400     1.0                      2.500   \n",
      "std        11.681            17.713         0.516     0.0                      0.527   \n",
      "min         0.000            43.190         0.000     1.0                      2.000   \n",
      "25%         5.250            50.765         0.000     1.0                      2.000   \n",
      "50%         9.000            76.310         0.000     1.0                      2.500   \n",
      "75%        20.000            82.858         1.000     1.0                      3.000   \n",
      "max        35.000            89.080         1.000     1.0                      3.000   \n",
      "\n",
      "       hormone_therapy  lymph_nodes_examined_positive  mutation_count  \\\n",
      "count           10.000                         10.000           9.000   \n",
      "mean             0.900                          2.500           2.778   \n",
      "std              0.316                          3.567           1.481   \n",
      "min              0.000                          0.000           1.000   \n",
      "25%              1.000                          0.250           2.000   \n",
      "50%              1.000                          1.000           2.000   \n",
      "75%              1.000                          2.500           4.000   \n",
      "max              1.000                         10.000           5.000   \n",
      "\n",
      "       nottingham_prognostic_index  overall_survival_months  ...  srd5a1  srd5a2  srd5a3     st7  \\\n",
      "count                       10.000                   10.000  ...  10.000  10.000  10.000  10.000   \n",
      "mean                         4.445                   93.963  ...  -0.649  -0.141   0.705   0.976   \n",
      "std                          0.971                   61.418  ...   0.345   0.338   1.633   1.006   \n",
      "min                          3.056                    7.800  ...  -1.315  -0.708  -1.635  -0.303   \n",
      "25%                          4.022                   37.767  ...  -0.729  -0.358  -0.632   0.242   \n",
      "50%                          4.054                   92.083  ...  -0.551  -0.080   0.821   0.723   \n",
      "75%                          4.790                  157.900  ...  -0.404   0.060   1.470   1.925   \n",
      "max                          6.080                  164.933  ...  -0.302   0.453   3.612   2.296   \n",
      "\n",
      "         star    tnk2   tulp4  ugt2b15  ugt2b17  ugt2b7  \n",
      "count  10.000  10.000  10.000   10.000   10.000  10.000  \n",
      "mean   -0.269  -1.236  -0.349    0.585    0.360  -0.094  \n",
      "std     0.596   1.667   1.227    1.738    1.310   0.736  \n",
      "min    -1.652  -3.717  -1.554   -0.692   -0.885  -0.892  \n",
      "25%    -0.485  -2.283  -1.225   -0.525   -0.286  -0.721  \n",
      "50%    -0.179  -1.008  -0.722   -0.229    0.024  -0.269  \n",
      "75%     0.142  -0.245  -0.043    1.129    0.463   0.416  \n",
      "max     0.402   1.078   1.826    5.005    3.848   1.322  \n",
      "\n",
      "[8 rows x 503 columns]\n"
     ]
    }
   ],
   "source": [
    "# a) Statistical summary\n",
    "# print the statistical summary of some columns\n",
    "set_option('display.width', 100)\n",
    "set_option('precision', 3)\n",
    "tempt = raw_data[0:10]\n",
    "print(tempt.describe())"
   ]
  },
  {
   "cell_type": "code",
   "execution_count": 4,
   "id": "3c3f8e60",
   "metadata": {},
   "outputs": [
    {
     "name": "stdout",
     "output_type": "stream",
     "text": [
      "death_from_cancer\n",
      "Died of Disease         622\n",
      "Died of Other Causes    480\n",
      "Living                  801\n",
      "dtype: int64\n"
     ]
    }
   ],
   "source": [
    "# On classication problems we need to know the balance or the distribution of the class attribute\n",
    "class_counts = raw_data.groupby('death_from_cancer').size()\n",
    "print(class_counts)"
   ]
  },
  {
   "cell_type": "markdown",
   "id": "449a697c",
   "metadata": {},
   "source": [
    "We can see that this dataset is a bit imbalanced with high number of observations of people in Living category (801 out of 1904)."
   ]
  },
  {
   "cell_type": "code",
   "execution_count": 5,
   "id": "bd3aac35",
   "metadata": {},
   "outputs": [
    {
     "data": {
      "image/png": "[encoded data removed]",
      "text/plain": [
       "<Figure size 640x480 with 4 Axes>"
      ]
     },
     "metadata": {},
     "output_type": "display_data"
    }
   ],
   "source": [
    "# b) Data visualizations\n",
    "\n",
    "# Box and Whisker Plots of a few features\n",
    "raw_plot = pd.DataFrame(raw_data, columns=[\"age_at_diagnosis\", \"cellularity\", \"cohort\", \"tumor_stage\", \"death_from_cancer\"])\n",
    "raw_plot.plot(kind='box', subplots=True, layout=(2,2), sharex=False, sharey=False)\n",
    "plt.show()"
   ]
  },
  {
   "cell_type": "code",
   "execution_count": 6,
   "id": "1023b220",
   "metadata": {},
   "outputs": [
    {
     "data": {
      "text/plain": [
       "cellularity    AxesSubplot(0.125,0.712609;0.168478x0.167391)\n",
       "dtype: object"
      ]
     },
     "execution_count": 6,
     "metadata": {},
     "output_type": "execute_result"
    },
    {
     "data": {
      "image/png": "[encoded data removed]",
      "text/plain": [
       "<Figure size 640x480 with 16 Axes>"
      ]
     },
     "metadata": {},
     "output_type": "display_data"
    }
   ],
   "source": [
    "# Box plot for a categorial data\n",
    "raw_plot['cellularity'].value_counts().plot(kind='box', subplots=True, layout=(4,4), sharex=False, sharey=False)"
   ]
  },
  {
   "cell_type": "markdown",
   "id": "869ccbc9",
   "metadata": {},
   "source": [
    "### 3. Prepare Data"
   ]
  },
  {
   "cell_type": "code",
   "execution_count": 7,
   "id": "b03eee76",
   "metadata": {},
   "outputs": [
    {
     "name": "stdout",
     "output_type": "stream",
     "text": [
      "(1904, 519)\n"
     ]
    }
   ],
   "source": [
    "# a) Data Cleaning\n",
    "# Drop useless columns\n",
    "to_keep = [i for i in range(0, 519)]\n",
    "data = pd.read_csv('METABRIC_RNA_Mutation.csv', header=0, usecols=to_keep)\n",
    "print(data.shape)"
   ]
  },
  {
   "cell_type": "markdown",
   "id": "a9200716",
   "metadata": {},
   "source": [
    "By doppring unimportant columns, the number of features reduces from 693 to 519."
   ]
  },
  {
   "cell_type": "code",
   "execution_count": 8,
   "id": "cc8283a9",
   "metadata": {},
   "outputs": [
    {
     "name": "stdout",
     "output_type": "stream",
     "text": [
      "patient_id                 0\n",
      "age_at_diagnosis           0\n",
      "type_of_breast_surgery    22\n",
      "cancer_type                0\n",
      "cancer_type_detailed      15\n",
      "                          ..\n",
      "star                       0\n",
      "tnk2                       0\n",
      "tulp4                      0\n",
      "ugt2b15                    0\n",
      "ugt2b17                    0\n",
      "Length: 519, dtype: int64\n"
     ]
    }
   ],
   "source": [
    "# Identify columns with missing values and count the number of missing values\n",
    "data.columns[data.isnull().any()]\n",
    "print(data.isnull().sum())"
   ]
  },
  {
   "cell_type": "code",
   "execution_count": 9,
   "id": "2bd5c185",
   "metadata": {},
   "outputs": [],
   "source": [
    "# Imputation of missing values with 'mode' values in important columns\n",
    "data[\"type_of_breast_surgery\"]=data[\"type_of_breast_surgery\"].fillna(data[\"type_of_breast_surgery\"].mode()[0])\n",
    "data[\"cancer_type_detailed\"]=data[\"cancer_type_detailed\"].fillna(data[\"cancer_type_detailed\"].mode()[0])\n",
    "data[\"cellularity\"]=data[\"cellularity\"].fillna(data[\"cellularity\"].mode()[0])\n",
    "data[\"er_status_measured_by_ihc\"]=data[\"er_status_measured_by_ihc\"].fillna(data[\"er_status_measured_by_ihc\"].mode()[0])\n",
    "data[\"neoplasm_histologic_grade\"]=data[\"neoplasm_histologic_grade\"].fillna(data[\"neoplasm_histologic_grade\"].mode()[0])\n",
    "data[\"tumor_other_histologic_subtype\"]=data[\"tumor_other_histologic_subtype\"].fillna(data[\"tumor_other_histologic_subtype\"].mode()[0])\n",
    "data[\"primary_tumor_laterality\"]=data[\"primary_tumor_laterality\"].fillna(data[\"primary_tumor_laterality\"].mode()[0])\n",
    "data[\"mutation_count\"]=data[\"mutation_count\"].fillna(data[\"mutation_count\"].mode()[0])\n",
    "data[\"oncotree_code\"]=data[\"oncotree_code\"].fillna(data[\"oncotree_code\"].mode()[0])\n",
    "data[\"3-gene_classifier_subtype\"]=data[\"3-gene_classifier_subtype\"].fillna(data[\"3-gene_classifier_subtype\"].mode()[0])\n",
    "data[\"tumor_size\"]=data[\"tumor_size\"].fillna(data[\"tumor_size\"].mode()[0])\n",
    "data[\"tumor_stage\"]=data[\"tumor_stage\"].fillna(data[\"tumor_stage\"].mode()[0])"
   ]
  },
  {
   "cell_type": "code",
   "execution_count": 10,
   "id": "6c8af85f",
   "metadata": {},
   "outputs": [
    {
     "name": "stdout",
     "output_type": "stream",
     "text": [
      "(1903, 519)\n"
     ]
    }
   ],
   "source": [
    "# drop rows with missing values\n",
    "data.dropna(inplace=True)\n",
    "print(data.shape)"
   ]
  },
  {
   "cell_type": "code",
   "execution_count": 11,
   "id": "2d2dd639",
   "metadata": {},
   "outputs": [],
   "source": [
    "df = data.copy(deep = True)\n",
    "\n",
    "# Convert strings into categorial classes\n",
    "df['type_of_breast_surgery'].replace('BREAST CONSERVING', 1, inplace = True)\n",
    "df['type_of_breast_surgery'].replace('MASTECTOMY', 0, inplace = True)\n",
    "\n",
    "df['cellularity'].replace('High', 2, inplace = True)\n",
    "df['cellularity'].replace('Moderate', 1, inplace = True)\n",
    "df['cellularity'].replace('Low', 0, inplace = True)\n",
    "\n",
    "df['er_status_measured_by_ihc'].replace('Positve', 1, inplace = True)\n",
    "df['er_status_measured_by_ihc'].replace('Negative', 0, inplace = True)\n",
    "\n",
    "df['her2_status'].replace('Positive', 1, inplace = True)\n",
    "df['her2_status'].replace('Negative', 0, inplace = True)\n",
    "\n",
    "df['inferred_menopausal_state'].replace('Post', 1, inplace = True)\n",
    "df['inferred_menopausal_state'].replace('Pre', 0, inplace = True)\n",
    "\n",
    "df['pr_status'].replace('Positive', 1, inplace = True)\n",
    "df['pr_status'].replace('Negative', 0, inplace = True)\n",
    "\n",
    "# Define class for the classification class \"death_from_cancer\"\n",
    "df['death_from_cancer'].replace('Living', 0, inplace = True)\n",
    "df['death_from_cancer'].replace('Died of Other Causes', 1, inplace = True)\n",
    "df['death_from_cancer'].replace('Died of Disease', 2, inplace = True)"
   ]
  },
  {
   "cell_type": "code",
   "execution_count": 12,
   "id": "955ea7ed",
   "metadata": {},
   "outputs": [
    {
     "name": "stdout",
     "output_type": "stream",
     "text": [
      "0       0\n",
      "1       0\n",
      "2       2\n",
      "3       0\n",
      "4       2\n",
      "       ..\n",
      "1899    0\n",
      "1900    2\n",
      "1901    2\n",
      "1902    1\n",
      "1903    1\n",
      "Name: death_from_cancer, Length: 1903, dtype: int64\n"
     ]
    }
   ],
   "source": [
    "#Use One Hot Encoding to convert categorical features into numeric features\n",
    "\n",
    "df = pd.get_dummies(data = df, columns = ['cancer_type','cancer_type_detailed', 'er_status', 'her2_status_measured_by_snp6', 'pam50_+_claudin-low_subtype',\\\n",
    "'tumor_other_histologic_subtype', 'integrative_cluster', 'primary_tumor_laterality', 'oncotree_code', '3-gene_classifier_subtype'])\n",
    "print(df['death_from_cancer'])"
   ]
  },
  {
   "cell_type": "code",
   "execution_count": 13,
   "id": "99b2e86d",
   "metadata": {},
   "outputs": [],
   "source": [
    "# b) Feature Selection\n",
    "# Select the top k most relevant features (largest values)\n",
    "def select_features(X, y, features):\n",
    "# configure to select all features\n",
    "    fs = SelectKBest(score_func=f_classif, k=10)\n",
    "    \n",
    "# learn relationship from training data\n",
    "    fs.fit(X, y)\n",
    "    \n",
    "    df_scores = pd.DataFrame(fs.scores_)\n",
    "    df_columns = pd.DataFrame(X.columns)\n",
    "    \n",
    "    feature_scores = pd.concat([df_columns,df_scores], axis=1)\n",
    "    feature_scores.columns = ['fname','score']\n",
    "    \n",
    "    best_features = feature_scores.nlargest(features,'score')\n",
    "    \n",
    "    X_featured = pd.DataFrame()  \n",
    "    for j in best_features['fname']:\n",
    "        X_featured[j] = X[j]\n",
    "\n",
    "    X = X_featured.copy()\n",
    "    X = np.array(X)    \n",
    "    y = np.array(y)\n",
    "    \n",
    "    a = best_features['fname']\n",
    "    b= best_features['score']\n",
    "    \n",
    "    plt.bar(a, b)\n",
    "    plt.xticks(rotation=45, ha='right')\n",
    "    plt.show()\n",
    "    return X, y, fs"
   ]
  },
  {
   "cell_type": "code",
   "execution_count": 14,
   "id": "ee459714",
   "metadata": {},
   "outputs": [
    {
     "data": {
      "image/png": "[encoded data removed]",
      "text/plain": [
       "<Figure size 640x480 with 1 Axes>"
      ]
     },
     "metadata": {},
     "output_type": "display_data"
    }
   ],
   "source": [
    "# c) Split the dataset into train and test sets \n",
    "X = df.drop(columns=['death_from_cancer', 'patient_id', 'overall_survival'], axis = 1)\n",
    "y = df['death_from_cancer']\n",
    "\n",
    "X, y, fs = select_features(X, y, 20)\n",
    "\n",
    "X_train, X_test, y_train, y_test = train_test_split(X, y, test_size=0.3)"
   ]
  },
  {
   "cell_type": "markdown",
   "id": "3327d1c5",
   "metadata": {},
   "source": [
    "The chart clearly shows that 2 features (overall_survival_months and age_of_diagnosis) might be the most relevant (according to test statistic)."
   ]
  },
  {
   "cell_type": "code",
   "execution_count": 15,
   "id": "c9bf7304",
   "metadata": {},
   "outputs": [
    {
     "name": "stdout",
     "output_type": "stream",
     "text": [
      "(1332, 20) (571, 20)\n",
      "(1332,) (571,)\n"
     ]
    }
   ],
   "source": [
    "# c) Data Transforms\n",
    "# Standardize the dataset by rescaling the distribution of values\n",
    "scaler = MinMaxScaler()\n",
    "X_train = scaler.fit_transform(X_train)\n",
    "X_test = scaler.fit_transform(X_test)\n",
    "\n",
    "# convert the array back to a dataframe\n",
    "X_train = DataFrame(X_train)\n",
    "X_test = DataFrame(X_test)\n",
    "\n",
    "print(X_train.shape, X_test.shape)\n",
    "print(y_train.shape, y_test.shape)"
   ]
  },
  {
   "cell_type": "markdown",
   "id": "1d78a470",
   "metadata": {},
   "source": [
    "### 4. Evaluate Algorithms"
   ]
  },
  {
   "cell_type": "code",
   "execution_count": 16,
   "id": "3d92a0c7",
   "metadata": {},
   "outputs": [
    {
     "name": "stdout",
     "output_type": "stream",
     "text": [
      "[22:07:55] WARNING: ..\\src\\learner.cc:1115: Starting in XGBoost 1.3.0, the default evaluation metric used with the objective 'multi:softprob' was changed from 'merror' to 'mlogloss'. Explicitly set eval_metric if you'd like to restore the old behavior.\n",
      "Accuracy: 65.85%\n"
     ]
    }
   ],
   "source": [
    "# a) Ensemble algorithm (XGBoost)\n",
    "# Define model\n",
    "model1 = XGBClassifier(use_label_encoder=False)\n",
    "\n",
    "# Use DMatrix to convert input data into internal data structure that is optimized for both memory efficiency and training speed.\n",
    "df_xgb = xgb.DMatrix(data=X, label=y)\n",
    "X_train1, X_test1, y_train1, y_test1 = train_test_split(X, y, test_size=0.3)\n",
    "\n",
    "model1.fit(X_train1, y_train1)\n",
    "\n",
    "# make predictions for test data\n",
    "pred = model1.predict(X_test1)\n",
    "\n",
    "# evaluate predictions\n",
    "accuracy = accuracy_score(y_test1, pred)\n",
    "print(\"Accuracy: %.2f%%\" % (accuracy * 100.0))"
   ]
  },
  {
   "cell_type": "markdown",
   "id": "dc31c60d",
   "metadata": {},
   "source": [
    "The training accuracy of the XGBoostClassifier with default parameters is fairly low and is within the range of the standard ML and ensemble algorithms in Notebook 1."
   ]
  },
  {
   "cell_type": "code",
   "execution_count": 17,
   "id": "106908e0",
   "metadata": {},
   "outputs": [],
   "source": [
    "# a) Deep learning model (Keras Sequential)\n",
    "# Define a model with 3 layers and dropout regulation\n",
    "NN_model = keras.Sequential([    \n",
    "    keras.layers.Dense(300, input_shape = (20, ), activation = 'relu'),\n",
    "    keras.layers.Dropout(0.4),\n",
    "    keras.layers.Dense(150, activation = 'relu'),\n",
    "    keras.layers.Dropout(0.4),\n",
    "    keras.layers.Dense(1, activation='softplus')  \n",
    "])\n",
    "\n",
    "NN_model.compile(optimizer = 'adam',\n",
    "                loss = 'mean_squared_logarithmic_error',\n",
    "                metrics=['mse'])"
   ]
  },
  {
   "cell_type": "code",
   "execution_count": 18,
   "id": "4a89567f",
   "metadata": {},
   "outputs": [
    {
     "name": "stdout",
     "output_type": "stream",
     "text": [
      "Epoch 1/50\n",
      "21/21 [==============================] - 1s 12ms/step - loss: 0.2166 - mse: 0.7368 - val_loss: 0.1929 - val_mse: 0.6524\n",
      "Epoch 2/50\n",
      "21/21 [==============================] - 0s 5ms/step - loss: 0.1961 - mse: 0.6611 - val_loss: 0.1773 - val_mse: 0.5959\n",
      "Epoch 3/50\n",
      "21/21 [==============================] - 0s 5ms/step - loss: 0.1836 - mse: 0.6214 - val_loss: 0.1687 - val_mse: 0.6014\n",
      "Epoch 4/50\n",
      "21/21 [==============================] - 0s 4ms/step - loss: 0.1776 - mse: 0.6106 - val_loss: 0.1600 - val_mse: 0.5580\n",
      "Epoch 5/50\n",
      "21/21 [==============================] - 0s 4ms/step - loss: 0.1692 - mse: 0.5786 - val_loss: 0.1603 - val_mse: 0.5046\n",
      "Epoch 6/50\n",
      "21/21 [==============================] - 0s 5ms/step - loss: 0.1661 - mse: 0.5570 - val_loss: 0.1528 - val_mse: 0.5117\n",
      "Epoch 7/50\n",
      "21/21 [==============================] - 0s 4ms/step - loss: 0.1595 - mse: 0.5418 - val_loss: 0.1505 - val_mse: 0.4975\n",
      "Epoch 8/50\n",
      "21/21 [==============================] - 0s 5ms/step - loss: 0.1588 - mse: 0.5408 - val_loss: 0.1472 - val_mse: 0.5039\n",
      "Epoch 9/50\n",
      "21/21 [==============================] - 0s 4ms/step - loss: 0.1551 - mse: 0.5294 - val_loss: 0.1460 - val_mse: 0.5035\n",
      "Epoch 10/50\n",
      "21/21 [==============================] - 0s 5ms/step - loss: 0.1562 - mse: 0.5319 - val_loss: 0.1468 - val_mse: 0.4882\n",
      "Epoch 11/50\n",
      "21/21 [==============================] - 0s 5ms/step - loss: 0.1541 - mse: 0.5212 - val_loss: 0.1448 - val_mse: 0.4986\n",
      "Epoch 12/50\n",
      "21/21 [==============================] - 0s 6ms/step - loss: 0.1520 - mse: 0.5151 - val_loss: 0.1464 - val_mse: 0.5191\n",
      "Epoch 13/50\n",
      "21/21 [==============================] - 0s 5ms/step - loss: 0.1535 - mse: 0.5265 - val_loss: 0.1453 - val_mse: 0.5137\n",
      "Epoch 14/50\n",
      "21/21 [==============================] - 0s 5ms/step - loss: 0.1501 - mse: 0.5100 - val_loss: 0.1423 - val_mse: 0.4789\n",
      "Epoch 15/50\n",
      "21/21 [==============================] - 0s 5ms/step - loss: 0.1486 - mse: 0.5017 - val_loss: 0.1431 - val_mse: 0.4789\n",
      "Epoch 16/50\n",
      "21/21 [==============================] - 0s 5ms/step - loss: 0.1470 - mse: 0.5005 - val_loss: 0.1426 - val_mse: 0.5027\n",
      "Epoch 17/50\n",
      "21/21 [==============================] - 0s 5ms/step - loss: 0.1457 - mse: 0.5007 - val_loss: 0.1483 - val_mse: 0.4743\n",
      "Epoch 18/50\n",
      "21/21 [==============================] - 0s 5ms/step - loss: 0.1513 - mse: 0.5108 - val_loss: 0.1452 - val_mse: 0.4633\n",
      "Epoch 19/50\n",
      "21/21 [==============================] - 0s 5ms/step - loss: 0.1483 - mse: 0.5126 - val_loss: 0.1478 - val_mse: 0.4691\n",
      "Epoch 20/50\n",
      "21/21 [==============================] - 0s 5ms/step - loss: 0.1435 - mse: 0.4906 - val_loss: 0.1417 - val_mse: 0.4753\n",
      "Epoch 21/50\n",
      "21/21 [==============================] - 0s 5ms/step - loss: 0.1474 - mse: 0.5008 - val_loss: 0.1412 - val_mse: 0.4872\n",
      "Epoch 22/50\n",
      "21/21 [==============================] - 0s 5ms/step - loss: 0.1416 - mse: 0.4838 - val_loss: 0.1397 - val_mse: 0.4704\n",
      "Epoch 23/50\n",
      "21/21 [==============================] - 0s 5ms/step - loss: 0.1414 - mse: 0.4824 - val_loss: 0.1402 - val_mse: 0.4782\n",
      "Epoch 24/50\n",
      "21/21 [==============================] - 0s 5ms/step - loss: 0.1411 - mse: 0.4768 - val_loss: 0.1411 - val_mse: 0.4738\n",
      "Epoch 25/50\n",
      "21/21 [==============================] - 0s 5ms/step - loss: 0.1391 - mse: 0.4723 - val_loss: 0.1410 - val_mse: 0.4728\n",
      "Epoch 26/50\n",
      "21/21 [==============================] - 0s 5ms/step - loss: 0.1398 - mse: 0.4779 - val_loss: 0.1413 - val_mse: 0.5079\n",
      "Epoch 27/50\n",
      "21/21 [==============================] - 0s 5ms/step - loss: 0.1366 - mse: 0.4672 - val_loss: 0.1455 - val_mse: 0.5312\n",
      "Epoch 28/50\n",
      "21/21 [==============================] - 0s 5ms/step - loss: 0.1409 - mse: 0.4839 - val_loss: 0.1414 - val_mse: 0.5073\n",
      "Epoch 29/50\n",
      "21/21 [==============================] - 0s 5ms/step - loss: 0.1334 - mse: 0.4541 - val_loss: 0.1410 - val_mse: 0.4760\n",
      "Epoch 30/50\n",
      "21/21 [==============================] - 0s 6ms/step - loss: 0.1367 - mse: 0.4707 - val_loss: 0.1390 - val_mse: 0.4692\n",
      "Epoch 31/50\n",
      "21/21 [==============================] - 0s 5ms/step - loss: 0.1342 - mse: 0.4544 - val_loss: 0.1438 - val_mse: 0.4673\n",
      "Epoch 32/50\n",
      "21/21 [==============================] - 0s 5ms/step - loss: 0.1340 - mse: 0.4598 - val_loss: 0.1390 - val_mse: 0.4762\n",
      "Epoch 33/50\n",
      "21/21 [==============================] - 0s 5ms/step - loss: 0.1370 - mse: 0.4678 - val_loss: 0.1410 - val_mse: 0.4704\n",
      "Epoch 34/50\n",
      "21/21 [==============================] - 0s 5ms/step - loss: 0.1315 - mse: 0.4435 - val_loss: 0.1404 - val_mse: 0.4716\n",
      "Epoch 35/50\n",
      "21/21 [==============================] - 0s 5ms/step - loss: 0.1335 - mse: 0.4528 - val_loss: 0.1381 - val_mse: 0.4651\n",
      "Epoch 36/50\n",
      "21/21 [==============================] - 0s 5ms/step - loss: 0.1334 - mse: 0.4543 - val_loss: 0.1391 - val_mse: 0.4671\n",
      "Epoch 37/50\n",
      "21/21 [==============================] - 0s 5ms/step - loss: 0.1305 - mse: 0.4453 - val_loss: 0.1377 - val_mse: 0.4647\n",
      "Epoch 38/50\n",
      "21/21 [==============================] - 0s 5ms/step - loss: 0.1280 - mse: 0.4311 - val_loss: 0.1416 - val_mse: 0.5075\n",
      "Epoch 39/50\n",
      "21/21 [==============================] - 0s 5ms/step - loss: 0.1313 - mse: 0.4499 - val_loss: 0.1401 - val_mse: 0.4904\n",
      "Epoch 40/50\n",
      "21/21 [==============================] - 0s 5ms/step - loss: 0.1269 - mse: 0.4307 - val_loss: 0.1384 - val_mse: 0.4737\n",
      "Epoch 41/50\n",
      "21/21 [==============================] - 0s 5ms/step - loss: 0.1288 - mse: 0.4372 - val_loss: 0.1389 - val_mse: 0.4691\n",
      "Epoch 42/50\n",
      "21/21 [==============================] - 0s 4ms/step - loss: 0.1272 - mse: 0.4344 - val_loss: 0.1395 - val_mse: 0.4633\n",
      "Epoch 43/50\n",
      "21/21 [==============================] - 0s 5ms/step - loss: 0.1267 - mse: 0.4262 - val_loss: 0.1388 - val_mse: 0.4857\n",
      "Epoch 44/50\n",
      "21/21 [==============================] - 0s 4ms/step - loss: 0.1230 - mse: 0.4226 - val_loss: 0.1369 - val_mse: 0.4810\n",
      "Epoch 45/50\n",
      "21/21 [==============================] - 0s 5ms/step - loss: 0.1234 - mse: 0.4208 - val_loss: 0.1384 - val_mse: 0.4667\n",
      "Epoch 46/50\n",
      "21/21 [==============================] - 0s 5ms/step - loss: 0.1246 - mse: 0.4284 - val_loss: 0.1376 - val_mse: 0.4666\n",
      "Epoch 47/50\n",
      "21/21 [==============================] - 0s 5ms/step - loss: 0.1265 - mse: 0.4377 - val_loss: 0.1466 - val_mse: 0.4795\n",
      "Epoch 48/50\n",
      "21/21 [==============================] - 0s 5ms/step - loss: 0.1275 - mse: 0.4312 - val_loss: 0.1411 - val_mse: 0.4742\n",
      "Epoch 49/50\n",
      "21/21 [==============================] - 0s 4ms/step - loss: 0.1217 - mse: 0.4149 - val_loss: 0.1414 - val_mse: 0.4740\n",
      "Epoch 50/50\n",
      "21/21 [==============================] - 0s 5ms/step - loss: 0.1231 - mse: 0.4207 - val_loss: 0.1380 - val_mse: 0.4715\n"
     ]
    }
   ],
   "source": [
    "# fit the keras model on the dataset\n",
    "model_fit = NN_model.fit(X_train, y_train, validation_data=(X_test,y_test), epochs=50, batch_size=64)"
   ]
  },
  {
   "cell_type": "code",
   "execution_count": 19,
   "id": "182d0f19",
   "metadata": {},
   "outputs": [
    {
     "data": {
      "text/plain": [
       "<matplotlib.legend.Legend at 0x20777644730>"
      ]
     },
     "execution_count": 19,
     "metadata": {},
     "output_type": "execute_result"
    },
    {
     "data": {
      "image/png": "[encoded data removed]",
      "text/plain": [
       "<Figure size 1000x500 with 1 Axes>"
      ]
     },
     "metadata": {},
     "output_type": "display_data"
    }
   ],
   "source": [
    "# Plot learning curve\n",
    "plt.figure(figsize = (10, 5))\n",
    "plt.plot(model_fit.history['loss'], label = 'training')\n",
    "plt.plot(model_fit.history['val_loss'], label = 'validation')\n",
    "plt.xlabel('epochs')\n",
    "plt.ylabel('loss')\n",
    "plt.legend()"
   ]
  },
  {
   "cell_type": "markdown",
   "id": "2720a44f",
   "metadata": {},
   "source": [
    "Overall, the training and validation performances of this Keras Sequential model is in good agreement. However, the loss values over 50 epoches are pretty high (0.12 to 0.14) meaning there should be rooms for improvement."
   ]
  },
  {
   "cell_type": "markdown",
   "id": "2862eef5",
   "metadata": {},
   "source": [
    "### 5. Improve Accuracy"
   ]
  },
  {
   "cell_type": "code",
   "execution_count": 20,
   "id": "5b19d29b",
   "metadata": {},
   "outputs": [
    {
     "name": "stdout",
     "output_type": "stream",
     "text": [
      "Fitting 5 folds for each of 9 candidates, totalling 45 fits\n",
      "Optimum parameters {'learning_rate': 0.01, 'n_estimators': 300}\n"
     ]
    }
   ],
   "source": [
    "# Algorithm (XGBoost) Tuning\n",
    "# Define model\n",
    "model_XGB = XGBClassifier(use_label_encoder=False)\n",
    "\n",
    "# Sensitivity parameters\n",
    "# Tuning Learning Rate and the Number of Trees\n",
    "lrate = [0.001, 0.01, 0.1]\n",
    "n_tree = [100, 300, 500]\n",
    "param_grid = dict(learning_rate=lrate, n_estimators=n_tree)\n",
    "\n",
    "# Grid search on optimum hyperparameters for XGBooost model\n",
    "model_XGB_temp = GridSearchCV(estimator=model_XGB, param_grid=param_grid, scoring=\"neg_log_loss\", verbose=1)\n",
    "grid_result = model_XGB_temp.fit(X_train1, y_train1, eval_metric='rmse')\n",
    "print(\"Optimum parameters %s\" % (grid_result.best_params_))"
   ]
  },
  {
   "cell_type": "markdown",
   "id": "94bd5857",
   "metadata": {},
   "source": [
    "Now we will implement these optimum parameters to retrain and validate the dataset."
   ]
  },
  {
   "cell_type": "markdown",
   "id": "6924f2bd",
   "metadata": {},
   "source": [
    "### 6. Finalize Model"
   ]
  },
  {
   "cell_type": "code",
   "execution_count": 21,
   "id": "c7194206",
   "metadata": {},
   "outputs": [
    {
     "name": "stdout",
     "output_type": "stream",
     "text": [
      "[22:09:19] WARNING: ..\\src\\learner.cc:1115: Starting in XGBoost 1.3.0, the default evaluation metric used with the objective 'multi:softprob' was changed from 'merror' to 'mlogloss'. Explicitly set eval_metric if you'd like to restore the old behavior.\n"
     ]
    }
   ],
   "source": [
    "# a) Predictions on validation dataset\n",
    "# Define XGBoost model with optimum set of parameters\n",
    "model_XGB = XGBClassifier(learning_rate = 0.01, n_estimators = 300, use_label_encoder=False)\n",
    "\n",
    "# Fit the trained model to the valiation data\n",
    "fit_XGB = model_XGB.fit(X_train1, y_train1)\n",
    "\n",
    "# estimate accuracy on validation dataset\n",
    "fit_XGB.score(X_test, y_test1)\n",
    "pred = fit_XGB.predict(X_test1)"
   ]
  },
  {
   "cell_type": "code",
   "execution_count": 22,
   "id": "297c2b9c",
   "metadata": {},
   "outputs": [
    {
     "name": "stdout",
     "output_type": "stream",
     "text": [
      "Accuracy: 67.08%\n"
     ]
    }
   ],
   "source": [
    "# Let's see the accuracy score\n",
    "accuracy = accuracy_score(y_test1, pred)\n",
    "print(\"Accuracy: %.2f%%\" % (accuracy * 100.0))"
   ]
  },
  {
   "cell_type": "markdown",
   "id": "405bcb99",
   "metadata": {},
   "source": [
    "Tuning XGBoost model parameters lift the accuracy slightly from 65.85% to 67.08% but still within the range of standard and ensemble ML algorithms."
   ]
  },
  {
   "cell_type": "code",
   "execution_count": 23,
   "id": "b0e79e3b",
   "metadata": {},
   "outputs": [],
   "source": [
    "# b) Save model for later use\n",
    "# save the model to disk\n",
    "filename = 'finalized_model.sav'\n",
    "dump(model_XGB, open(filename, 'wb'))"
   ]
  },
  {
   "cell_type": "markdown",
   "id": "f21bc622",
   "metadata": {},
   "source": [
    "### 7. Conclusions"
   ]
  },
  {
   "cell_type": "markdown",
   "id": "2df09783",
   "metadata": {},
   "source": [
    "- Staring with the problem statement, we performed exploratory data analysis and cleaning before passing the data into algorithms for training and prediction.\n",
    "\n",
    "\n",
    "- The ensemble algorithm (XGBoost) with default parameters has a prediction accuracy of 65.85% which is within the range of ML and ensemble algorithms in Notebook 1. Further tuning of the model's parameters (learning rate and tree number) improves its performance slightly to 67.08%.\n",
    "\n",
    "\n",
    "- The performance of the neural network model (Keras Sequential) with 3 layers and dropput regulation seems to be comparable to the XGBoost model. Loss values of training and prediction are in good agreement but the mean absolute error of 0.4 is fairly high.\n",
    "\n",
    "\n",
    "- Predictive performances of all ML and deep learning algorithms on this dataset seems to be capped at sub 70s (%). This suggests that more work to be done, such as feature selection, dimensional reduction, and probably other deep leaning algorithms, to improve the training and prediction on this dataset."
   ]
  },
  {
   "cell_type": "code",
   "execution_count": null,
   "id": "f9662d8c",
   "metadata": {},
   "outputs": [],
   "source": []
  }
 ],
 "metadata": {
  "kernelspec": {
   "display_name": "Python 3 (ipykernel)",
   "language": "python",
   "name": "python3"
  },
  "language_info": {
   "codemirror_mode": {
    "name": "ipython",
    "version": 3
   },
   "file_extension": ".py",
   "mimetype": "text/x-python",
   "name": "python",
   "nbconvert_exporter": "python",
   "pygments_lexer": "ipython3",
   "version": "3.9.13"
  }
 },
 "nbformat": 4,
 "nbformat_minor": 5
}
