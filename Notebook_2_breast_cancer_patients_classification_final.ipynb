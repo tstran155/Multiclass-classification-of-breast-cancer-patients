{
 "cells": [
  {
   "cell_type": "markdown",
   "id": "092b09ea",
   "metadata": {
    "id": "092b09ea"
   },
   "source": [
    "## Multiclass classification of breast cancer patients - Notebook 2"
   ]
  },
  {
   "cell_type": "markdown",
   "id": "6c4c99b4",
   "metadata": {
    "id": "6c4c99b4"
   },
   "source": [
    "In this notebook, I applied ensemble algorithm (XGBoost) and built a neural network model (Keras Sequential) to classify and predict the survival rate of patients with breast cancer."
   ]
  },
  {
   "cell_type": "markdown",
   "id": "2cf41a3a",
   "metadata": {
    "id": "2cf41a3a"
   },
   "source": [
    "### 1. Prepare Problem"
   ]
  },
  {
   "cell_type": "code",
   "execution_count": 1,
   "id": "11c13015",
   "metadata": {
    "id": "11c13015"
   },
   "outputs": [
    {
     "name": "stderr",
     "output_type": "stream",
     "text": [
      "D:\\Software\\Anaconda\\lib\\site-packages\\xgboost\\compat.py:36: FutureWarning: pandas.Int64Index is deprecated and will be removed from pandas in a future version. Use pandas.Index with the appropriate dtype instead.\n",
      "  from pandas import MultiIndex, Int64Index\n"
     ]
    }
   ],
   "source": [
    "# a) Load libraries\n",
    "import pandas as pd\n",
    "from pandas import set_option\n",
    "from pandas import DataFrame\n",
    "\n",
    "import numpy as np\n",
    "\n",
    "import xgboost as xgb\n",
    "\n",
    "import matplotlib.pyplot as plt\n",
    "\n",
    "from tensorflow import keras\n",
    "\n",
    "from tensorflow.keras.models import Sequential\n",
    "from tensorflow.keras.layers import Dense\n",
    "from keras.layers import Dropout\n",
    "\n",
    "from sklearn.model_selection import StratifiedKFold\n",
    "from sklearn.model_selection import train_test_split\n",
    "from sklearn.preprocessing import MinMaxScaler\n",
    "from sklearn.model_selection import GridSearchCV\n",
    "from sklearn.feature_selection import SelectKBest\n",
    "from sklearn.feature_selection import f_classif\n",
    "from sklearn.metrics import accuracy_score\n",
    "from scikeras.wrappers import KerasClassifier\n",
    "\n",
    "from xgboost import XGBClassifier\n",
    "\n",
    "from pickle import dump\n",
    "\n",
    "import logging\n",
    "logging.getLogger(\"tensorflow\").setLevel(logging.ERROR)"
   ]
  },
  {
   "cell_type": "code",
   "execution_count": 2,
   "id": "6e2b8f46",
   "metadata": {
    "colab": {
     "base_uri": "https://localhost:8080/"
    },
    "id": "6e2b8f46",
    "outputId": "a8b91cfa-4f5c-437c-8052-e49099f4fa25"
   },
   "outputs": [
    {
     "name": "stdout",
     "output_type": "stream",
     "text": [
      "(1904, 693)\n",
      "   patient_id  age_at_diagnosis type_of_breast_surgery    cancer_type  \\\n",
      "0           0             75.65             MASTECTOMY  Breast Cancer   \n",
      "1           2             43.19      BREAST CONSERVING  Breast Cancer   \n",
      "2           5             48.87             MASTECTOMY  Breast Cancer   \n",
      "3           6             47.68             MASTECTOMY  Breast Cancer   \n",
      "4           8             76.97             MASTECTOMY  Breast Cancer   \n",
      "5          10             78.77             MASTECTOMY  Breast Cancer   \n",
      "6          14             56.45      BREAST CONSERVING  Breast Cancer   \n",
      "7          22             89.08      BREAST CONSERVING  Breast Cancer   \n",
      "8          28             86.41      BREAST CONSERVING  Breast Cancer   \n",
      "9          35             84.22             MASTECTOMY  Breast Cancer   \n",
      "\n",
      "                        cancer_type_detailed cellularity  chemotherapy  \\\n",
      "0           Breast Invasive Ductal Carcinoma         NaN             0   \n",
      "1           Breast Invasive Ductal Carcinoma        High             0   \n",
      "2           Breast Invasive Ductal Carcinoma        High             1   \n",
      "3  Breast Mixed Ductal and Lobular Carcinoma    Moderate             1   \n",
      "4  Breast Mixed Ductal and Lobular Carcinoma        High             1   \n",
      "5           Breast Invasive Ductal Carcinoma    Moderate             0   \n",
      "6           Breast Invasive Ductal Carcinoma    Moderate             1   \n",
      "7  Breast Mixed Ductal and Lobular Carcinoma    Moderate             0   \n",
      "8           Breast Invasive Ductal Carcinoma    Moderate             0   \n",
      "9          Breast Invasive Lobular Carcinoma        High             0   \n",
      "\n",
      "  pam50_+_claudin-low_subtype  cohort er_status_measured_by_ihc  ... mtap_mut  \\\n",
      "0                 claudin-low     1.0                   Positve  ...        0   \n",
      "1                        LumA     1.0                   Positve  ...        0   \n",
      "2                        LumB     1.0                   Positve  ...        0   \n",
      "3                        LumB     1.0                   Positve  ...        0   \n",
      "4                        LumB     1.0                   Positve  ...        0   \n",
      "5                        LumB     1.0                   Positve  ...        0   \n",
      "6                        LumB     1.0                   Positve  ...        0   \n",
      "7                 claudin-low     1.0                   Positve  ...        0   \n",
      "8                        LumB     1.0                   Positve  ...        0   \n",
      "9                        Her2     1.0                  Negative  ...        0   \n",
      "\n",
      "   ppp2cb_mut smarcd1_mut nras_mut ndfip1_mut  hras_mut prps2_mut smarcb1_mut  \\\n",
      "0           0           0        0          0         0         0           0   \n",
      "1           0           0        0          0         0         0           0   \n",
      "2           0           0        0          0         0         0           0   \n",
      "3           0           0        0          0         0         0           0   \n",
      "4           0           0        0          0         0         0           0   \n",
      "5           0           0        0          0         0         0           0   \n",
      "6           0           0        0          0         0         0           0   \n",
      "7           0           0        0          0         0         0           0   \n",
      "8           0           0        0          0         0         0           0   \n",
      "9           0           0        0          0         0         0           0   \n",
      "\n",
      "  stmn2_mut  siah1_mut  \n",
      "0         0          0  \n",
      "1         0          0  \n",
      "2         0          0  \n",
      "3         0          0  \n",
      "4         0          0  \n",
      "5         0          0  \n",
      "6         0          0  \n",
      "7         0          0  \n",
      "8         0          0  \n",
      "9         0          0  \n",
      "\n",
      "[10 rows x 693 columns]\n",
      "patient_id                  int64\n",
      "age_at_diagnosis          float64\n",
      "type_of_breast_surgery     object\n",
      "cancer_type                object\n",
      "cancer_type_detailed       object\n",
      "                           ...   \n",
      "hras_mut                   object\n",
      "prps2_mut                  object\n",
      "smarcb1_mut                object\n",
      "stmn2_mut                  object\n",
      "siah1_mut                  object\n",
      "Length: 693, dtype: object\n"
     ]
    },
    {
     "name": "stderr",
     "output_type": "stream",
     "text": [
      "C:\\Users\\huyha\\AppData\\Local\\Temp\\ipykernel_10736\\1224547202.py:2: DtypeWarning: Columns (678,688,690,692) have mixed types. Specify dtype option on import or set low_memory=False.\n",
      "  raw_data = pd.read_csv('METABRIC_RNA_Mutation.csv', header=0)\n"
     ]
    }
   ],
   "source": [
    "# b) Load dataset\n",
    "raw_data = pd.read_csv('METABRIC_RNA_Mutation.csv', header=0)\n",
    "print(raw_data.shape)\n",
    "print(raw_data.head(10))\n",
    "print(raw_data.dtypes)"
   ]
  },
  {
   "cell_type": "markdown",
   "id": "ad9b4a24",
   "metadata": {
    "id": "ad9b4a24"
   },
   "source": [
    "There are 1904 attributes from 693 input fearures. One feature (death_from_cancer) is the output feature for classification."
   ]
  },
  {
   "cell_type": "markdown",
   "id": "43253e65",
   "metadata": {
    "id": "43253e65"
   },
   "source": [
    "### 2. Dataset summary"
   ]
  },
  {
   "cell_type": "code",
   "execution_count": 3,
   "id": "d68331bb",
   "metadata": {
    "colab": {
     "base_uri": "https://localhost:8080/"
    },
    "id": "d68331bb",
    "outputId": "b3fb07c1-8031-449b-d8be-c34b1e79ff57",
    "scrolled": true
   },
   "outputs": [
    {
     "name": "stdout",
     "output_type": "stream",
     "text": [
      "       patient_id  age_at_diagnosis  chemotherapy  cohort  neoplasm_histologic_grade  \\\n",
      "count      10.000            10.000        10.000    10.0                     10.000   \n",
      "mean       13.000            68.729         0.400     1.0                      2.500   \n",
      "std        11.681            17.713         0.516     0.0                      0.527   \n",
      "min         0.000            43.190         0.000     1.0                      2.000   \n",
      "25%         5.250            50.765         0.000     1.0                      2.000   \n",
      "50%         9.000            76.310         0.000     1.0                      2.500   \n",
      "75%        20.000            82.858         1.000     1.0                      3.000   \n",
      "max        35.000            89.080         1.000     1.0                      3.000   \n",
      "\n",
      "       hormone_therapy  lymph_nodes_examined_positive  mutation_count  \\\n",
      "count           10.000                         10.000           9.000   \n",
      "mean             0.900                          2.500           2.778   \n",
      "std              0.316                          3.567           1.481   \n",
      "min              0.000                          0.000           1.000   \n",
      "25%              1.000                          0.250           2.000   \n",
      "50%              1.000                          1.000           2.000   \n",
      "75%              1.000                          2.500           4.000   \n",
      "max              1.000                         10.000           5.000   \n",
      "\n",
      "       nottingham_prognostic_index  overall_survival_months  ...  srd5a1  srd5a2  srd5a3     st7  \\\n",
      "count                       10.000                   10.000  ...  10.000  10.000  10.000  10.000   \n",
      "mean                         4.445                   93.963  ...  -0.649  -0.141   0.705   0.976   \n",
      "std                          0.971                   61.418  ...   0.345   0.338   1.633   1.006   \n",
      "min                          3.056                    7.800  ...  -1.315  -0.708  -1.635  -0.303   \n",
      "25%                          4.022                   37.767  ...  -0.729  -0.358  -0.632   0.242   \n",
      "50%                          4.054                   92.083  ...  -0.551  -0.080   0.821   0.723   \n",
      "75%                          4.790                  157.900  ...  -0.404   0.060   1.470   1.925   \n",
      "max                          6.080                  164.933  ...  -0.302   0.453   3.612   2.296   \n",
      "\n",
      "         star    tnk2   tulp4  ugt2b15  ugt2b17  ugt2b7  \n",
      "count  10.000  10.000  10.000   10.000   10.000  10.000  \n",
      "mean   -0.269  -1.236  -0.349    0.585    0.360  -0.094  \n",
      "std     0.596   1.667   1.227    1.738    1.310   0.736  \n",
      "min    -1.652  -3.717  -1.554   -0.692   -0.885  -0.892  \n",
      "25%    -0.485  -2.283  -1.225   -0.525   -0.286  -0.721  \n",
      "50%    -0.179  -1.008  -0.722   -0.229    0.024  -0.269  \n",
      "75%     0.142  -0.245  -0.043    1.129    0.463   0.416  \n",
      "max     0.402   1.078   1.826    5.005    3.848   1.322  \n",
      "\n",
      "[8 rows x 503 columns]\n"
     ]
    }
   ],
   "source": [
    "# a) Statistical summary\n",
    "# print the statistical summary of some columns\n",
    "pd.options.display.width = 100\n",
    "pd.options.display.precision = 3\n",
    "tempt = raw_data[0:10]\n",
    "print(tempt.describe())"
   ]
  },
  {
   "cell_type": "code",
   "execution_count": 4,
   "id": "3c3f8e60",
   "metadata": {
    "colab": {
     "base_uri": "https://localhost:8080/"
    },
    "id": "3c3f8e60",
    "outputId": "aca27e51-e23e-49ce-fe8f-ff22dda11fe9"
   },
   "outputs": [
    {
     "name": "stdout",
     "output_type": "stream",
     "text": [
      "death_from_cancer\n",
      "Died of Disease         622\n",
      "Died of Other Causes    480\n",
      "Living                  801\n",
      "dtype: int64\n"
     ]
    }
   ],
   "source": [
    "# On classication problems we need to know the balance or the distribution of the class attribute\n",
    "class_counts = raw_data.groupby('death_from_cancer').size()\n",
    "print(class_counts)"
   ]
  },
  {
   "cell_type": "markdown",
   "id": "449a697c",
   "metadata": {
    "id": "449a697c"
   },
   "source": [
    "We can see that this dataset is a bit imbalanced with high number of observations of people in Living category (801 out of 1904)."
   ]
  },
  {
   "cell_type": "code",
   "execution_count": 5,
   "id": "bd3aac35",
   "metadata": {
    "colab": {
     "base_uri": "https://localhost:8080/",
     "height": 270
    },
    "id": "bd3aac35",
    "outputId": "fc3e9254-1c8a-4781-c486-cd20cdd08d63"
   },
   "outputs": [
    {
     "data": {
      "image/png": "[encoded data removed]",
      "text/plain": [
       "<Figure size 640x480 with 4 Axes>"
      ]
     },
     "metadata": {},
     "output_type": "display_data"
    }
   ],
   "source": [
    "# b) Data visualizations\n",
    "\n",
    "# Box and Whisker Plots of a few features\n",
    "raw_plot = pd.DataFrame(raw_data, columns=[\"age_at_diagnosis\", \"cohort\", \"cellularity\", \"tumor_stage\"])\n",
    "raw_plot.plot(kind='box', subplots=True, layout=(2,2), sharex=False, sharey=False)\n",
    "plt.show()"
   ]
  },
  {
   "cell_type": "code",
   "execution_count": 6,
   "id": "1023b220",
   "metadata": {
    "colab": {
     "base_uri": "https://localhost:8080/",
     "height": 131
    },
    "id": "1023b220",
    "outputId": "184fed28-65a1-4490-9b78-a71bc3b3ee87"
   },
   "outputs": [
    {
     "data": {
      "text/plain": [
       "cellularity    AxesSubplot(0.125,0.712609;0.168478x0.167391)\n",
       "dtype: object"
      ]
     },
     "execution_count": 6,
     "metadata": {},
     "output_type": "execute_result"
    },
    {
     "data": {
      "image/png": "[encoded data removed]",
      "text/plain": [
       "<Figure size 640x480 with 16 Axes>"
      ]
     },
     "metadata": {},
     "output_type": "display_data"
    }
   ],
   "source": [
    "# Box plot for a categorial data\n",
    "raw_plot['cellularity'].value_counts().plot(kind='box', subplots=True, layout=(4,4), sharex=False, sharey=False)"
   ]
  },
  {
   "cell_type": "markdown",
   "id": "869ccbc9",
   "metadata": {
    "id": "869ccbc9"
   },
   "source": [
    "### 3. Prepare Data"
   ]
  },
  {
   "cell_type": "code",
   "execution_count": 7,
   "id": "b03eee76",
   "metadata": {
    "colab": {
     "base_uri": "https://localhost:8080/"
    },
    "id": "b03eee76",
    "outputId": "11a4d7d0-0e4d-4a09-d53e-f37f60cb25e1"
   },
   "outputs": [
    {
     "name": "stdout",
     "output_type": "stream",
     "text": [
      "(1904, 519)\n"
     ]
    }
   ],
   "source": [
    "# a) Data Cleaning\n",
    "# Drop useless columns\n",
    "to_keep = [i for i in range(0, 519)]\n",
    "data = pd.read_csv('METABRIC_RNA_Mutation.csv', header=0, usecols=to_keep)\n",
    "print(data.shape)"
   ]
  },
  {
   "cell_type": "markdown",
   "id": "a9200716",
   "metadata": {
    "id": "a9200716"
   },
   "source": [
    "By doppring unimportant columns, the number of features reduces from 693 to 519."
   ]
  },
  {
   "cell_type": "code",
   "execution_count": 8,
   "id": "cc8283a9",
   "metadata": {
    "id": "cc8283a9"
   },
   "outputs": [],
   "source": [
    "# Define class for the classification class \"death_from_cancer\"\n",
    "data['death_from_cancer'].replace({'Living': 0, 'Died of Other Causes': 1, 'Died of Disease': 2}, inplace=True)"
   ]
  },
  {
   "cell_type": "markdown",
   "id": "SPVMW55pKoci",
   "metadata": {
    "id": "SPVMW55pKoci"
   },
   "source": [
    "Removing outliers in numerical columns is a mandatory step to aid the training and validation process. Here I do it by calculating the correlation between these variables with the target variables, identifying low correlation columns, and filtering values less than the lower and greater than the upper bounds."
   ]
  },
  {
   "cell_type": "code",
   "execution_count": 9,
   "id": "2bd5c185",
   "metadata": {
    "id": "2bd5c185"
   },
   "outputs": [],
   "source": [
    "# calculate the correlation between numerical columns and target variable\n",
    "corr_matrix = data.select_dtypes(include=np.number).corrwith(data['death_from_cancer']).sort_values(ascending=False)\n",
    "\n",
    "# filter columns with low correlation \n",
    "corr_threshold = 0.05\n",
    "low_corr_columns = corr_matrix[corr_matrix.abs() < corr_threshold].index\n",
    "\n",
    "# remove outliers from numerical columns with low correlation\n",
    "for column in low_corr_columns:\n",
    "    lower = data[column].quantile(0.01)\n",
    "    upper = data[column].quantile(0.99)\n",
    "    data[column] = data[column].clip(lower, upper)"
   ]
  },
  {
   "cell_type": "code",
   "execution_count": 10,
   "id": "6c8af85f",
   "metadata": {
    "colab": {
     "base_uri": "https://localhost:8080/"
    },
    "id": "6c8af85f",
    "outputId": "09d5eaaa-84e9-4f9c-892d-4feb885b3d24"
   },
   "outputs": [
    {
     "name": "stdout",
     "output_type": "stream",
     "text": [
      "type_of_breast_surgery             22\n",
      "cancer_type_detailed               15\n",
      "cellularity                        54\n",
      "er_status_measured_by_ihc          30\n",
      "neoplasm_histologic_grade          72\n",
      "tumor_other_histologic_subtype     15\n",
      "primary_tumor_laterality          106\n",
      "mutation_count                     45\n",
      "oncotree_code                      15\n",
      "3-gene_classifier_subtype         204\n",
      "tumor_size                         20\n",
      "tumor_stage                       501\n",
      "death_from_cancer                   1\n",
      "dtype: int64\n"
     ]
    }
   ],
   "source": [
    "# Identify columns with missing values and count the number of missing values\n",
    "null_cols = data.columns[data.isnull().any()]\n",
    "null_count = data[null_cols].isnull().sum()\n",
    "\n",
    "print(null_count)"
   ]
  },
  {
   "cell_type": "code",
   "execution_count": 11,
   "id": "2d2dd639",
   "metadata": {
    "id": "2d2dd639"
   },
   "outputs": [],
   "source": [
    "# Imputation of missing values with 'mode' values in important columns\n",
    "cols_to_fill = [\"type_of_breast_surgery\", \"cancer_type_detailed\", \"cellularity\", \"er_status_measured_by_ihc\", \n",
    "                \"neoplasm_histologic_grade\", \"tumor_other_histologic_subtype\", \"primary_tumor_laterality\", \n",
    "                \"mutation_count\", \"3-gene_classifier_subtype\", \"tumor_size\", \"tumor_stage\"]\n",
    "for col in cols_to_fill:\n",
    "    data[col] = data[col].fillna(data[col].mode()[0])"
   ]
  },
  {
   "cell_type": "code",
   "execution_count": 12,
   "id": "955ea7ed",
   "metadata": {
    "id": "955ea7ed"
   },
   "outputs": [],
   "source": [
    "df = data.copy(deep = True)\n",
    "\n",
    "# Convert strings into categorial classes\n",
    "cols_to_convert = [\"type_of_breast_surgery\", \"cellularity\", \"er_status_measured_by_ihc\", \"her2_status\",\n",
    "                 \"inferred_menopausal_state\",\"pr_status\"]\n",
    "\n",
    "replace_dict = {\"type_of_breast_surgery\": {'BREAST CONSERVING': 1, 'MASTECTOMY': 0},\n",
    "                \"cellularity\": {'High': 2, 'Moderate': 1, 'Low': 0},\n",
    "                \"er_status_measured_by_ihc\": {'Positve': 1, 'Negative': 0},\n",
    "                \"her2_status\": {'Positive': 1, 'Negative': 0},\n",
    "                \"inferred_menopausal_state\": {'Post': 1, 'Pre': 0},\n",
    "                \"pr_status\": {'Positive': 1, 'Negative': 0}}\n",
    "\n",
    "for col in cols_to_convert:\n",
    "    df[col].replace(replace_dict[col], inplace=True)"
   ]
  },
  {
   "cell_type": "code",
   "execution_count": 13,
   "id": "99b2e86d",
   "metadata": {
    "id": "99b2e86d"
   },
   "outputs": [],
   "source": [
    "#Use One Hot Encoding to convert categorical features into numeric features\n",
    "\n",
    "df = pd.get_dummies(data = df, columns = ['cancer_type','cancer_type_detailed', 'er_status', 'her2_status_measured_by_snp6', 'pam50_+_claudin-low_subtype','tumor_other_histologic_subtype', 'integrative_cluster', 'primary_tumor_laterality', '3-gene_classifier_subtype'])"
   ]
  },
  {
   "cell_type": "code",
   "execution_count": 14,
   "id": "Bda_1lkqzj64",
   "metadata": {
    "colab": {
     "base_uri": "https://localhost:8080/"
    },
    "id": "Bda_1lkqzj64",
    "outputId": "d2f03a86-4d95-48ec-a83b-de13c9286171"
   },
   "outputs": [
    {
     "name": "stdout",
     "output_type": "stream",
     "text": [
      "(1888, 556)\n"
     ]
    }
   ],
   "source": [
    "# drop rows with missing values\n",
    "df.dropna(inplace=True)\n",
    "print(df.shape)"
   ]
  },
  {
   "cell_type": "code",
   "execution_count": 15,
   "id": "p7mPB0XxzrKL",
   "metadata": {
    "id": "p7mPB0XxzrKL"
   },
   "outputs": [],
   "source": [
    "# b) Feature Selection\n",
    "# Select the top k most relevant features (largest values)\n",
    "def select_features(X, y, features):\n",
    "# configure to select all features\n",
    "    fs = SelectKBest(score_func=f_classif, k=10)\n",
    "    \n",
    "# learn relationship from training data\n",
    "    fs.fit(X, y)\n",
    "    \n",
    "    df_scores = pd.DataFrame(fs.scores_)\n",
    "    df_columns = pd.DataFrame(X.columns)\n",
    "    \n",
    "    feature_scores = pd.concat([df_columns,df_scores], axis=1)\n",
    "    feature_scores.columns = ['fname','score']\n",
    "    \n",
    "    best_features = feature_scores.nlargest(features,'score')\n",
    "    \n",
    "    X_featured = pd.DataFrame()  \n",
    "    for j in best_features['fname']:\n",
    "        X_featured[j] = X[j]\n",
    "\n",
    "    X = X_featured.copy()\n",
    "    X = np.array(X)    \n",
    "    y = np.array(y)\n",
    "    \n",
    "    # plot feature scores\n",
    "    a = best_features['fname']\n",
    "    b= best_features['score']    \n",
    "    plt.bar(a, b)\n",
    "    plt.xticks(rotation=45, ha='right')\n",
    "    plt.show()\n",
    "    return X, y, fs"
   ]
  },
  {
   "cell_type": "code",
   "execution_count": 16,
   "id": "ee459714",
   "metadata": {
    "colab": {
     "base_uri": "https://localhost:8080/",
     "height": 452
    },
    "id": "ee459714",
    "outputId": "cc142705-2e81-4a6f-d424-cf2a5e92e760"
   },
   "outputs": [
    {
     "name": "stderr",
     "output_type": "stream",
     "text": [
      "D:\\Software\\Anaconda\\lib\\site-packages\\sklearn\\feature_selection\\_univariate_selection.py:113: RuntimeWarning: divide by zero encountered in divide\n",
      "  f = msb / msw\n"
     ]
    },
    {
     "data": {
      "image/png": "[encoded data removed]",
      "text/plain": [
       "<Figure size 640x480 with 1 Axes>"
      ]
     },
     "metadata": {},
     "output_type": "display_data"
    }
   ],
   "source": [
    "# c) Split the dataset into train and test sets \n",
    "X = df.drop(columns=['death_from_cancer', 'patient_id', 'oncotree_code'], axis = 1)\n",
    "y = df['death_from_cancer']\n",
    "\n",
    "X, y, fs = select_features(X, y, 20)\n",
    "\n",
    "X_train, X_test, y_train, y_test = train_test_split(X, y, test_size=0.25)"
   ]
  },
  {
   "cell_type": "markdown",
   "id": "3327d1c5",
   "metadata": {
    "id": "3327d1c5"
   },
   "source": [
    "The chart clearly shows that 2 features (overall_survival and overall_survival_months) might be the most relevant variables."
   ]
  },
  {
   "cell_type": "code",
   "execution_count": 17,
   "id": "c9bf7304",
   "metadata": {
    "colab": {
     "base_uri": "https://localhost:8080/"
    },
    "id": "c9bf7304",
    "outputId": "4757da47-d9a9-4c6e-a5dd-f80ae2ccd74f"
   },
   "outputs": [
    {
     "name": "stdout",
     "output_type": "stream",
     "text": [
      "(1416, 20) (472, 20)\n",
      "(1416,) (472,)\n"
     ]
    }
   ],
   "source": [
    "# c) Data Transforms\n",
    "# Standardize the dataset by rescaling the distribution of values\n",
    "scaler = MinMaxScaler()\n",
    "X_train = scaler.fit_transform(X_train)\n",
    "X_test = scaler.fit_transform(X_test)\n",
    "\n",
    "# convert the array back to a dataframe\n",
    "X_train = DataFrame(X_train)\n",
    "X_test = DataFrame(X_test)\n",
    "\n",
    "print(X_train.shape, X_test.shape)\n",
    "print(y_train.shape, y_test.shape)"
   ]
  },
  {
   "cell_type": "markdown",
   "id": "1d78a470",
   "metadata": {
    "id": "1d78a470"
   },
   "source": [
    "### 4. Evaluate Algorithms"
   ]
  },
  {
   "cell_type": "markdown",
   "id": "p4i5kLYaMkPs",
   "metadata": {
    "id": "p4i5kLYaMkPs"
   },
   "source": [
    "In this section, I used XGBoost and Keras neural network model for the training and validation processes."
   ]
  },
  {
   "cell_type": "code",
   "execution_count": 18,
   "id": "3d92a0c7",
   "metadata": {
    "colab": {
     "base_uri": "https://localhost:8080/"
    },
    "id": "3d92a0c7",
    "outputId": "09336f44-4b37-463e-e0b1-a28444df17f2"
   },
   "outputs": [
    {
     "name": "stdout",
     "output_type": "stream",
     "text": [
      "[18:25:09] WARNING: ..\\src\\learner.cc:1115: Starting in XGBoost 1.3.0, the default evaluation metric used with the objective 'multi:softprob' was changed from 'merror' to 'mlogloss'. Explicitly set eval_metric if you'd like to restore the old behavior.\n",
      "Accuracy: 82.54%\n"
     ]
    }
   ],
   "source": [
    "# a) Ensemble algorithm (XGBoost)\n",
    "# Define model\n",
    "model1 = XGBClassifier(use_label_encoder=False)\n",
    "\n",
    "# Use DMatrix to convert input data into internal data structure that is optimized for both memory efficiency and training speed.\n",
    "df_xgb = xgb.DMatrix(data=X, label=y)\n",
    "X_train1, X_test1, y_train1, y_test1 = train_test_split(X, y, test_size=0.3)\n",
    "\n",
    "model1.fit(X_train1, y_train1)\n",
    "\n",
    "# make predictions for test data\n",
    "pred = model1.predict(X_test1)\n",
    "\n",
    "# evaluate predictions\n",
    "accuracy = accuracy_score(y_test1, pred)\n",
    "print(\"Accuracy: %.2f%%\" % (accuracy * 100.0))"
   ]
  },
  {
   "cell_type": "markdown",
   "id": "dc31c60d",
   "metadata": {
    "id": "dc31c60d"
   },
   "source": [
    "The training accuracy of the XGBoostClassifier with default parameters is fairly decent and is within the range of the standard ML and ensemble algorithms in Notebook 1."
   ]
  },
  {
   "cell_type": "code",
   "execution_count": 19,
   "id": "106908e0",
   "metadata": {
    "id": "106908e0"
   },
   "outputs": [],
   "source": [
    "# b) Deep learning model (Keras Sequential)\n",
    "# Define a model with 3 layers and dropout regulation\n",
    "NN_model = keras.Sequential([    \n",
    "    keras.layers.Dense(300, input_shape = (20, ), activation = 'relu'),\n",
    "    keras.layers.Dropout(0.4),\n",
    "    keras.layers.Dense(150, activation = 'relu'),\n",
    "    keras.layers.Dropout(0.4),\n",
    "    keras.layers.Dense(1, activation='softplus')  \n",
    "])\n",
    "\n",
    "NN_model.compile(optimizer = 'adam',\n",
    "                loss = 'mean_squared_logarithmic_error',\n",
    "                metrics=['mse'])"
   ]
  },
  {
   "cell_type": "markdown",
   "id": "Ck4FR_FnH70m",
   "metadata": {
    "id": "Ck4FR_FnH70m"
   },
   "source": [
    "The use of squared error as a loss function for classification was studied by Hui and Belkin (2020).\n",
    "\n",
    "\"We argue that there is little compelling empirical or theoretical evidence indicating a clear-cut advantage to the cross-entropy loss. Indeed, in our experiments, performance on nearly all non-vision tasks can be improved, sometimes significantly, by switching to the square loss. Furthermore, training with square loss appears to be less sensitive to the randomness in initialization. We posit that training using the square loss for classification needs to be a part of best practices of modern deep learning on equal footing with cross-entropy.\""
   ]
  },
  {
   "cell_type": "code",
   "execution_count": 20,
   "id": "4a89567f",
   "metadata": {
    "colab": {
     "base_uri": "https://localhost:8080/"
    },
    "id": "4a89567f",
    "outputId": "bf2a5775-41fb-41d0-e94f-db12799358b5"
   },
   "outputs": [
    {
     "name": "stdout",
     "output_type": "stream",
     "text": [
      "Epoch 1/50\n",
      "23/23 [==============================] - 2s 25ms/step - loss: 0.1339 - mse: 0.4931 - val_loss: 0.0365 - val_mse: 0.1702\n",
      "Epoch 2/50\n",
      "23/23 [==============================] - 0s 9ms/step - loss: 0.0401 - mse: 0.2216 - val_loss: 0.0255 - val_mse: 0.1487\n",
      "Epoch 3/50\n",
      "23/23 [==============================] - 0s 8ms/step - loss: 0.0302 - mse: 0.1778 - val_loss: 0.0206 - val_mse: 0.1223\n",
      "Epoch 4/50\n",
      "23/23 [==============================] - 0s 9ms/step - loss: 0.0277 - mse: 0.1641 - val_loss: 0.0203 - val_mse: 0.1212\n",
      "Epoch 5/50\n",
      "23/23 [==============================] - 0s 8ms/step - loss: 0.0258 - mse: 0.1540 - val_loss: 0.0207 - val_mse: 0.1218\n",
      "Epoch 6/50\n",
      "23/23 [==============================] - 0s 9ms/step - loss: 0.0232 - mse: 0.1417 - val_loss: 0.0209 - val_mse: 0.1329\n",
      "Epoch 7/50\n",
      "23/23 [==============================] - 0s 9ms/step - loss: 0.0233 - mse: 0.1456 - val_loss: 0.0204 - val_mse: 0.1298\n",
      "Epoch 8/50\n",
      "23/23 [==============================] - 0s 9ms/step - loss: 0.0211 - mse: 0.1316 - val_loss: 0.0198 - val_mse: 0.1258\n",
      "Epoch 9/50\n",
      "23/23 [==============================] - 0s 9ms/step - loss: 0.0207 - mse: 0.1280 - val_loss: 0.0192 - val_mse: 0.1198\n",
      "Epoch 10/50\n",
      "23/23 [==============================] - 0s 10ms/step - loss: 0.0209 - mse: 0.1304 - val_loss: 0.0190 - val_mse: 0.1170\n",
      "Epoch 11/50\n",
      "23/23 [==============================] - 0s 13ms/step - loss: 0.0200 - mse: 0.1244 - val_loss: 0.0190 - val_mse: 0.1191\n",
      "Epoch 12/50\n",
      "23/23 [==============================] - 0s 10ms/step - loss: 0.0205 - mse: 0.1294 - val_loss: 0.0191 - val_mse: 0.1181\n",
      "Epoch 13/50\n",
      "23/23 [==============================] - 0s 10ms/step - loss: 0.0203 - mse: 0.1263 - val_loss: 0.0188 - val_mse: 0.1152\n",
      "Epoch 14/50\n",
      "23/23 [==============================] - 0s 10ms/step - loss: 0.0203 - mse: 0.1270 - val_loss: 0.0190 - val_mse: 0.1164\n",
      "Epoch 15/50\n",
      "23/23 [==============================] - 0s 9ms/step - loss: 0.0196 - mse: 0.1229 - val_loss: 0.0187 - val_mse: 0.1158\n",
      "Epoch 16/50\n",
      "23/23 [==============================] - 0s 10ms/step - loss: 0.0185 - mse: 0.1158 - val_loss: 0.0194 - val_mse: 0.1175\n",
      "Epoch 17/50\n",
      "23/23 [==============================] - 0s 9ms/step - loss: 0.0189 - mse: 0.1188 - val_loss: 0.0187 - val_mse: 0.1140\n",
      "Epoch 18/50\n",
      "23/23 [==============================] - 0s 9ms/step - loss: 0.0185 - mse: 0.1154 - val_loss: 0.0183 - val_mse: 0.1131\n",
      "Epoch 19/50\n",
      "23/23 [==============================] - 0s 9ms/step - loss: 0.0183 - mse: 0.1143 - val_loss: 0.0191 - val_mse: 0.1161\n",
      "Epoch 20/50\n",
      "23/23 [==============================] - 0s 10ms/step - loss: 0.0188 - mse: 0.1171 - val_loss: 0.0186 - val_mse: 0.1142\n",
      "Epoch 21/50\n",
      "23/23 [==============================] - 0s 10ms/step - loss: 0.0183 - mse: 0.1145 - val_loss: 0.0191 - val_mse: 0.1210\n",
      "Epoch 22/50\n",
      "23/23 [==============================] - 0s 9ms/step - loss: 0.0187 - mse: 0.1171 - val_loss: 0.0191 - val_mse: 0.1215\n",
      "Epoch 23/50\n",
      "23/23 [==============================] - 0s 14ms/step - loss: 0.0182 - mse: 0.1136 - val_loss: 0.0186 - val_mse: 0.1158\n",
      "Epoch 24/50\n",
      "23/23 [==============================] - 0s 15ms/step - loss: 0.0191 - mse: 0.1202 - val_loss: 0.0189 - val_mse: 0.1152\n",
      "Epoch 25/50\n",
      "23/23 [==============================] - 0s 13ms/step - loss: 0.0182 - mse: 0.1137 - val_loss: 0.0183 - val_mse: 0.1125\n",
      "Epoch 26/50\n",
      "23/23 [==============================] - 0s 10ms/step - loss: 0.0183 - mse: 0.1148 - val_loss: 0.0192 - val_mse: 0.1219\n",
      "Epoch 27/50\n",
      "23/23 [==============================] - 0s 10ms/step - loss: 0.0181 - mse: 0.1137 - val_loss: 0.0183 - val_mse: 0.1140\n",
      "Epoch 28/50\n",
      "23/23 [==============================] - 0s 9ms/step - loss: 0.0182 - mse: 0.1142 - val_loss: 0.0182 - val_mse: 0.1106\n",
      "Epoch 29/50\n",
      "23/23 [==============================] - 0s 8ms/step - loss: 0.0181 - mse: 0.1134 - val_loss: 0.0184 - val_mse: 0.1141\n",
      "Epoch 30/50\n",
      "23/23 [==============================] - 0s 8ms/step - loss: 0.0188 - mse: 0.1177 - val_loss: 0.0183 - val_mse: 0.1119\n",
      "Epoch 31/50\n",
      "23/23 [==============================] - 0s 8ms/step - loss: 0.0178 - mse: 0.1113 - val_loss: 0.0189 - val_mse: 0.1178\n",
      "Epoch 32/50\n",
      "23/23 [==============================] - 0s 8ms/step - loss: 0.0175 - mse: 0.1101 - val_loss: 0.0190 - val_mse: 0.1196\n",
      "Epoch 33/50\n",
      "23/23 [==============================] - 0s 8ms/step - loss: 0.0173 - mse: 0.1082 - val_loss: 0.0190 - val_mse: 0.1200\n",
      "Epoch 34/50\n",
      "23/23 [==============================] - 0s 8ms/step - loss: 0.0181 - mse: 0.1134 - val_loss: 0.0205 - val_mse: 0.1319\n",
      "Epoch 35/50\n",
      "23/23 [==============================] - 0s 8ms/step - loss: 0.0187 - mse: 0.1189 - val_loss: 0.0187 - val_mse: 0.1135\n",
      "Epoch 36/50\n",
      "23/23 [==============================] - 0s 7ms/step - loss: 0.0170 - mse: 0.1054 - val_loss: 0.0185 - val_mse: 0.1128\n",
      "Epoch 37/50\n",
      "23/23 [==============================] - 0s 7ms/step - loss: 0.0168 - mse: 0.1047 - val_loss: 0.0189 - val_mse: 0.1198\n",
      "Epoch 38/50\n",
      "23/23 [==============================] - 0s 7ms/step - loss: 0.0174 - mse: 0.1089 - val_loss: 0.0185 - val_mse: 0.1148\n",
      "Epoch 39/50\n",
      "23/23 [==============================] - 0s 8ms/step - loss: 0.0167 - mse: 0.1042 - val_loss: 0.0190 - val_mse: 0.1183\n",
      "Epoch 40/50\n",
      "23/23 [==============================] - 0s 7ms/step - loss: 0.0170 - mse: 0.1064 - val_loss: 0.0185 - val_mse: 0.1143\n",
      "Epoch 41/50\n",
      "23/23 [==============================] - 0s 7ms/step - loss: 0.0179 - mse: 0.1122 - val_loss: 0.0187 - val_mse: 0.1176\n",
      "Epoch 42/50\n",
      "23/23 [==============================] - 0s 8ms/step - loss: 0.0169 - mse: 0.1062 - val_loss: 0.0190 - val_mse: 0.1184\n",
      "Epoch 43/50\n",
      "23/23 [==============================] - 0s 8ms/step - loss: 0.0168 - mse: 0.1058 - val_loss: 0.0188 - val_mse: 0.1159\n",
      "Epoch 44/50\n",
      "23/23 [==============================] - 0s 8ms/step - loss: 0.0168 - mse: 0.1043 - val_loss: 0.0185 - val_mse: 0.1144\n",
      "Epoch 45/50\n",
      "23/23 [==============================] - 0s 8ms/step - loss: 0.0167 - mse: 0.1045 - val_loss: 0.0193 - val_mse: 0.1169\n",
      "Epoch 46/50\n",
      "23/23 [==============================] - 0s 7ms/step - loss: 0.0166 - mse: 0.1043 - val_loss: 0.0185 - val_mse: 0.1146\n",
      "Epoch 47/50\n",
      "23/23 [==============================] - 0s 7ms/step - loss: 0.0166 - mse: 0.1037 - val_loss: 0.0187 - val_mse: 0.1149\n",
      "Epoch 48/50\n",
      "23/23 [==============================] - 0s 8ms/step - loss: 0.0164 - mse: 0.1022 - val_loss: 0.0188 - val_mse: 0.1170\n",
      "Epoch 49/50\n",
      "23/23 [==============================] - 0s 8ms/step - loss: 0.0165 - mse: 0.1040 - val_loss: 0.0188 - val_mse: 0.1170\n",
      "Epoch 50/50\n",
      "23/23 [==============================] - 0s 8ms/step - loss: 0.0166 - mse: 0.1045 - val_loss: 0.0201 - val_mse: 0.1286\n"
     ]
    }
   ],
   "source": [
    "# fit the keras model on the dataset\n",
    "model_fit = NN_model.fit(X_train, y_train, validation_data=(X_test,y_test), epochs=50, batch_size=64)"
   ]
  },
  {
   "cell_type": "code",
   "execution_count": 21,
   "id": "182d0f19",
   "metadata": {
    "colab": {
     "base_uri": "https://localhost:8080/",
     "height": 352
    },
    "id": "182d0f19",
    "outputId": "c62df54a-b260-4a94-c09c-615195d79344"
   },
   "outputs": [
    {
     "data": {
      "text/plain": [
       "<matplotlib.legend.Legend at 0x1c886025d60>"
      ]
     },
     "execution_count": 21,
     "metadata": {},
     "output_type": "execute_result"
    },
    {
     "data": {
      "image/png": "[encoded data removed]",
      "text/plain": [
       "<Figure size 1000x500 with 1 Axes>"
      ]
     },
     "metadata": {},
     "output_type": "display_data"
    }
   ],
   "source": [
    "# Plot learning curve\n",
    "plt.figure(figsize = (10, 5))\n",
    "plt.plot(model_fit.history['loss'], label = 'training')\n",
    "plt.plot(model_fit.history['val_loss'], label = 'validation')\n",
    "plt.xlabel('epochs')\n",
    "plt.ylabel('loss')\n",
    "plt.legend()"
   ]
  },
  {
   "cell_type": "markdown",
   "id": "2720a44f",
   "metadata": {
    "id": "2720a44f"
   },
   "source": [
    "Overall, the training and validation performances of this Keras Sequential model is in good agreement. However, the loss values over 50 epoches are very good (~0.01) meaning it is ready for prediction."
   ]
  },
  {
   "cell_type": "markdown",
   "id": "2862eef5",
   "metadata": {
    "id": "2862eef5"
   },
   "source": [
    "### 5. Improve Accuracy"
   ]
  },
  {
   "cell_type": "code",
   "execution_count": 22,
   "id": "uamrHOYk0XAT",
   "metadata": {
    "id": "uamrHOYk0XAT"
   },
   "outputs": [],
   "source": [
    "# Algorithm (XGBoost) Tuning\n",
    "# Define model\n",
    "model_XGB = XGBClassifier(use_label_encoder=False)"
   ]
  },
  {
   "cell_type": "code",
   "execution_count": 23,
   "id": "5b19d29b",
   "metadata": {
    "colab": {
     "base_uri": "https://localhost:8080/"
    },
    "id": "5b19d29b",
    "outputId": "760d103e-7cbd-43bd-e9db-b2ccb4fdeb62"
   },
   "outputs": [
    {
     "name": "stdout",
     "output_type": "stream",
     "text": [
      "Fitting 5 folds for each of 9 candidates, totalling 45 fits\n",
      "Optimum parameters {'learning_rate': 0.01, 'n_estimators': 500}\n"
     ]
    }
   ],
   "source": [
    "# Sensitivity parameters\n",
    "# Tuning Learning Rate and the Number of Trees\n",
    "lrate = [0.001, 0.01, 0.1]\n",
    "n_tree = [100, 300, 500]\n",
    "param_grid = dict(learning_rate=lrate, n_estimators=n_tree)\n",
    "\n",
    "# Grid search on optimum hyperparameters for XGBooost model\n",
    "model_XGB_temp = GridSearchCV(estimator=model_XGB, param_grid=param_grid, scoring=\"neg_log_loss\", verbose=1)\n",
    "grid_result = model_XGB_temp.fit(X_train1, y_train1, eval_metric='rmse')\n",
    "print(\"Optimum parameters %s\" % (grid_result.best_params_))"
   ]
  },
  {
   "cell_type": "markdown",
   "id": "94bd5857",
   "metadata": {
    "id": "94bd5857"
   },
   "source": [
    "Now we will implement these optimum parameters to retrain and validate the dataset."
   ]
  },
  {
   "cell_type": "markdown",
   "id": "6924f2bd",
   "metadata": {
    "id": "6924f2bd"
   },
   "source": [
    "### 6. Finalize Model"
   ]
  },
  {
   "cell_type": "code",
   "execution_count": 24,
   "id": "c7194206",
   "metadata": {
    "colab": {
     "base_uri": "https://localhost:8080/"
    },
    "id": "c7194206",
    "outputId": "a5dc93d6-f38d-4ab0-8171-b664d7192053"
   },
   "outputs": [
    {
     "name": "stdout",
     "output_type": "stream",
     "text": [
      "[18:28:20] WARNING: ..\\src\\learner.cc:1115: Starting in XGBoost 1.3.0, the default evaluation metric used with the objective 'multi:softprob' was changed from 'merror' to 'mlogloss'. Explicitly set eval_metric if you'd like to restore the old behavior.\n",
      "Accuracy: 83.07%\n"
     ]
    }
   ],
   "source": [
    "# a) Predictions on validation dataset\n",
    "# Define XGBoost model with optimum set of parameters\n",
    "model_XGB = XGBClassifier(learning_rate = 0.01, n_estimators = 500, use_label_encoder=False)\n",
    "\n",
    "# Fit the trained model to the valiation data\n",
    "fit_XGB = model_XGB.fit(X_train1, y_train1)\n",
    "\n",
    "# estimate accuracy on validation dataset\n",
    "fit_XGB.score(X_test1, y_test1)\n",
    "pred = fit_XGB.predict(X_test1)\n",
    "\n",
    "# Let's see the accuracy score\n",
    "accuracy = accuracy_score(y_test1, pred)\n",
    "print(\"Accuracy: %.2f%%\" % (accuracy * 100.0))"
   ]
  },
  {
   "cell_type": "code",
   "execution_count": 25,
   "id": "297c2b9c",
   "metadata": {
    "colab": {
     "base_uri": "https://localhost:8080/"
    },
    "id": "297c2b9c",
    "outputId": "70612c75-8758-4e9c-8efc-5d4431283e33"
   },
   "outputs": [
    {
     "name": "stdout",
     "output_type": "stream",
     "text": [
      "15/15 [==============================] - 0s 3ms/step - loss: 0.0201 - mse: 0.1286\n",
      "Test loss: 0.02010841853916645\n"
     ]
    }
   ],
   "source": [
    "# Evaluate the keras model on the test set\n",
    "test_loss, test_acc = NN_model.evaluate(X_test, y_test)\n",
    "print('Test loss:', test_loss)"
   ]
  },
  {
   "cell_type": "markdown",
   "id": "405bcb99",
   "metadata": {
    "id": "405bcb99"
   },
   "source": [
    "Tuning XGBoost model parameters lift the accuracy slightly from 82.54% to 83.07% but still within the range of standard and ensemble ML algorithms.\n",
    "\n",
    "The Keras model performs better than the XGBoost model with fairly low loss value of 0.01. "
   ]
  },
  {
   "cell_type": "code",
   "execution_count": 26,
   "id": "b0e79e3b",
   "metadata": {
    "id": "b0e79e3b"
   },
   "outputs": [],
   "source": [
    "# b) Save model for later use\n",
    "# save the model to disk\n",
    "filename = 'finalized_model.sav'\n",
    "dump(model_XGB, open(filename, 'wb'))"
   ]
  },
  {
   "cell_type": "markdown",
   "id": "f21bc622",
   "metadata": {
    "id": "f21bc622"
   },
   "source": [
    "### 7. Conclusions"
   ]
  },
  {
   "cell_type": "markdown",
   "id": "2df09783",
   "metadata": {
    "id": "2df09783"
   },
   "source": [
    "- Staring with the problem statement, we performed exploratory data analysis and cleaning before passing the data into algorithms for training and prediction.\n",
    "\n",
    "\n",
    "- Exploratory data analysis and data cleaning are crucial steps in this complex dataset to ensure achieving good training and validation performance.\n",
    "\n",
    "\n",
    "- The ensemble algorithm (XGBoost) with default parameters has a prediction accuracy of 82.54% which is within the range of ML and ensemble algorithms in Notebook 1. Further tuning of the model's parameters (learning rate and tree number) improves its performance slightly to 83.07%.\n",
    "\n",
    "\n",
    "- The performance of the neural network model (Keras Sequential) with 3 layers and dropput regulation seems to be comparable to the XGBoost model. Loss values of training and validation are in good agreement and achieved excellent mean squared error of 0.1.\n",
    "\n",
    "\n",
    "- Predictive performances of all ML and deep learning algorithms on this dataset are very good with the accuracy over 80%."
   ]
  }
 ],
 "metadata": {
  "accelerator": "GPU",
  "colab": {
   "provenance": []
  },
  "gpuClass": "standard",
  "kernelspec": {
   "display_name": "Python 3 (ipykernel)",
   "language": "python",
   "name": "python3"
  },
  "language_info": {
   "codemirror_mode": {
    "name": "ipython",
    "version": 3
   },
   "file_extension": ".py",
   "mimetype": "text/x-python",
   "name": "python",
   "nbconvert_exporter": "python",
   "pygments_lexer": "ipython3",
   "version": "3.9.13"
  }
 },
 "nbformat": 4,
 "nbformat_minor": 5
}
